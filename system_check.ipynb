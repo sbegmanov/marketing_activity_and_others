{
 "cells": [
  {
   "cell_type": "code",
   "execution_count": 2,
   "metadata": {},
   "outputs": [],
   "source": [
    "import sys"
   ]
  },
  {
   "cell_type": "code",
   "execution_count": 3,
   "metadata": {},
   "outputs": [
    {
     "data": {
      "text/plain": [
       "'3.12.2 (tags/v3.12.2:6abddd9, Feb  6 2024, 21:26:36) [MSC v.1937 64 bit (AMD64)]'"
      ]
     },
     "execution_count": 3,
     "metadata": {},
     "output_type": "execute_result"
    }
   ],
   "source": [
    "sys.version"
   ]
  },
  {
   "cell_type": "markdown",
   "metadata": {},
   "source": [
    "### import sys\n",
    "* Provides information about constants, functions and methods of the Python interpreter.\n",
    "  *  Data streams [ -> stdin, -> stdout, -> stderr]"
   ]
  },
  {
   "cell_type": "code",
   "execution_count": 4,
   "metadata": {},
   "outputs": [
    {
     "data": {
      "text/plain": [
       "sys.version_info(major=3, minor=12, micro=2, releaselevel='final', serial=0)"
      ]
     },
     "execution_count": 4,
     "metadata": {},
     "output_type": "execute_result"
    }
   ],
   "source": [
    "sys.version_info"
   ]
  },
  {
   "cell_type": "markdown",
   "metadata": {},
   "source": [
    "### command-line arguments\n",
    "* command line [-> argv, ->argc]"
   ]
  },
  {
   "cell_type": "code",
   "execution_count": 5,
   "metadata": {},
   "outputs": [
    {
     "name": "stdout",
     "output_type": "stream",
     "text": [
      "['C:\\\\Users\\\\salam\\\\AppData\\\\Roaming\\\\Python\\\\Python312\\\\site-packages\\\\ipykernel_launcher.py', '--f=c:\\\\Users\\\\salam\\\\AppData\\\\Roaming\\\\jupyter\\\\runtime\\\\kernel-v2-12356FduX9ne8RVK2.json']\n",
      "Function name: C:\\Users\\salam\\AppData\\Roaming\\Python\\Python312\\site-packages\\ipykernel_launcher.py\n",
      "1. argument: --f=c:\\Users\\salam\\AppData\\Roaming\\jupyter\\runtime\\kernel-v2-12356FduX9ne8RVK2.json\n"
     ]
    }
   ],
   "source": [
    "import sys\n",
    "\n",
    "# it's easy to print this list of course:\n",
    "print(sys.argv)\n",
    "\n",
    "# or it can be iterated via a for loop:\n",
    "\n",
    "for i in range(len(sys.argv)):\n",
    "    if i == 0:\n",
    "        print(\"Function name: %s\" % sys.argv[0])\n",
    "    else:\n",
    "        print(\"%d. argument: %s\" % (i, sys.argv[i]))\n",
    "            "
   ]
  },
  {
   "cell_type": "markdown",
   "metadata": {},
   "source": [
    "### output behavior\n",
    "* Python interactive Mode -> Write expression -> Get Output"
   ]
  },
  {
   "cell_type": "code",
   "execution_count": 6,
   "metadata": {},
   "outputs": [
    {
     "data": {
      "text/plain": [
       "42"
      ]
     },
     "execution_count": 6,
     "metadata": {},
     "output_type": "execute_result"
    }
   ],
   "source": [
    "import sys\n",
    "x = 42\n",
    "x"
   ]
  },
  {
   "cell_type": "code",
   "execution_count": 7,
   "metadata": {},
   "outputs": [],
   "source": [
    "def my_display(x):\n",
    "    print(\"out:\"),\n",
    "    print(x)"
   ]
  },
  {
   "cell_type": "code",
   "execution_count": 8,
   "metadata": {},
   "outputs": [],
   "source": [
    "sys.displayhook = my_display"
   ]
  },
  {
   "cell_type": "code",
   "execution_count": 9,
   "metadata": {},
   "outputs": [
    {
     "data": {
      "text/plain": [
       "42"
      ]
     },
     "execution_count": 9,
     "metadata": {},
     "output_type": "execute_result"
    }
   ],
   "source": [
    "x"
   ]
  },
  {
   "cell_type": "markdown",
   "metadata": {},
   "source": [
    "### Standard Data Streams\n",
    "* Shell [-> stdin, ->stdout, -> stderr]\n"
   ]
  },
  {
   "cell_type": "code",
   "execution_count": 10,
   "metadata": {},
   "outputs": [
    {
     "name": "stdout",
     "output_type": "stream",
     "text": [
      "<_io.TextIOWrapper name='<stdin>' mode='r' encoding='utf-8'>\n",
      "<ipykernel.iostream.OutStream object at 0x0000017843130130>\n",
      "<ipykernel.iostream.OutStream object at 0x00000178445D9ED0>\n"
     ]
    }
   ],
   "source": [
    "import sys\n",
    "for i in (sys.stdin, sys.stdout, sys.stderr):\n",
    "    print(i)"
   ]
  },
  {
   "cell_type": "code",
   "execution_count": 11,
   "metadata": {},
   "outputs": [
    {
     "name": "stdout",
     "output_type": "stream",
     "text": [
      "Going via stdout\n"
     ]
    }
   ],
   "source": [
    "import sys\n",
    "print(\"Going via stdout\")"
   ]
  },
  {
   "cell_type": "code",
   "execution_count": 12,
   "metadata": {},
   "outputs": [
    {
     "name": "stdout",
     "output_type": "stream",
     "text": [
      "Another way to do it!\n"
     ]
    },
    {
     "data": {
      "text/plain": [
       "22"
      ]
     },
     "execution_count": 12,
     "metadata": {},
     "output_type": "execute_result"
    }
   ],
   "source": [
    "sys.stdout.write(\"Another way to do it!\\n\")"
   ]
  },
  {
   "cell_type": "code",
   "execution_count": 13,
   "metadata": {},
   "outputs": [
    {
     "ename": "NameError",
     "evalue": "name 'raw_input' is not defined",
     "output_type": "error",
     "traceback": [
      "\u001b[1;31m---------------------------------------------------------------------------\u001b[0m",
      "\u001b[1;31mNameError\u001b[0m                                 Traceback (most recent call last)",
      "Cell \u001b[1;32mIn[13], line 1\u001b[0m\n\u001b[1;32m----> 1\u001b[0m x \u001b[38;5;241m=\u001b[39m \u001b[43mraw_input\u001b[49m(\u001b[38;5;124m\"\u001b[39m\u001b[38;5;124mread value via stdin: \u001b[39m\u001b[38;5;124m\"\u001b[39m)\n",
      "\u001b[1;31mNameError\u001b[0m: name 'raw_input' is not defined"
     ]
    }
   ],
   "source": [
    "x = raw_input(\"read value via stdin: \")"
   ]
  },
  {
   "cell_type": "code",
   "execution_count": 14,
   "metadata": {},
   "outputs": [],
   "source": [
    "print(\"type in value: \", sys.stdin.readline()[:-1])"
   ]
  },
  {
   "cell_type": "code",
   "execution_count": 10,
   "metadata": {},
   "outputs": [
    {
     "data": {
      "text/plain": [
       "4"
      ]
     },
     "execution_count": 10,
     "metadata": {},
     "output_type": "execute_result"
    }
   ],
   "source": [
    "4"
   ]
  },
  {
   "cell_type": "markdown",
   "metadata": {},
   "source": [
    "### Redirections"
   ]
  },
  {
   "cell_type": "code",
   "execution_count": 11,
   "metadata": {},
   "outputs": [
    {
     "name": "stdout",
     "output_type": "stream",
     "text": [
      "Coming through stdout\n"
     ]
    }
   ],
   "source": [
    "import sys\n",
    "print(\"Coming through stdout\")"
   ]
  },
  {
   "cell_type": "code",
   "execution_count": 12,
   "metadata": {},
   "outputs": [],
   "source": [
    "# stdout is saved\n",
    "save_stdout = sys.stdout\n",
    "fh = open(\"open.txt\", \"w\")"
   ]
  },
  {
   "cell_type": "code",
   "execution_count": 13,
   "metadata": {},
   "outputs": [],
   "source": [
    "sys.stdout = fh\n",
    "print(\"This line goes to test.txt\")"
   ]
  },
  {
   "cell_type": "code",
   "execution_count": 14,
   "metadata": {},
   "outputs": [],
   "source": [
    "# return to normal\n",
    "sys.stdout = save_stdout\n",
    "fh.close()"
   ]
  },
  {
   "cell_type": "code",
   "execution_count": 15,
   "metadata": {},
   "outputs": [],
   "source": [
    "save_sterr = sys.stderr"
   ]
  },
  {
   "cell_type": "code",
   "execution_count": 18,
   "metadata": {},
   "outputs": [
    {
     "ename": "ZeroDivisionError",
     "evalue": "division by zero",
     "output_type": "error",
     "traceback": [
      "\u001b[1;31m---------------------------------------------------------------------------\u001b[0m",
      "\u001b[1;31mZeroDivisionError\u001b[0m                         Traceback (most recent call last)",
      "\u001b[1;32m<ipython-input-18-39718235fb97>\u001b[0m in \u001b[0;36m<module>\u001b[1;34m\u001b[0m\n\u001b[0;32m      1\u001b[0m \u001b[0mfh\u001b[0m \u001b[1;33m=\u001b[0m \u001b[0mopen\u001b[0m\u001b[1;33m(\u001b[0m\u001b[1;34m\"errors.txt\"\u001b[0m\u001b[1;33m,\u001b[0m \u001b[1;34m\"w\"\u001b[0m\u001b[1;33m)\u001b[0m\u001b[1;33m\u001b[0m\u001b[1;33m\u001b[0m\u001b[0m\n\u001b[0;32m      2\u001b[0m \u001b[0msys\u001b[0m\u001b[1;33m.\u001b[0m\u001b[0mstderr\u001b[0m \u001b[1;33m=\u001b[0m \u001b[0mfh\u001b[0m\u001b[1;33m\u001b[0m\u001b[1;33m\u001b[0m\u001b[0m\n\u001b[1;32m----> 3\u001b[1;33m \u001b[0mx\u001b[0m \u001b[1;33m=\u001b[0m \u001b[1;36m10\u001b[0m\u001b[1;33m/\u001b[0m\u001b[1;36m0\u001b[0m\u001b[1;33m\u001b[0m\u001b[1;33m\u001b[0m\u001b[0m\n\u001b[0m\u001b[0;32m      4\u001b[0m \u001b[1;33m\u001b[0m\u001b[0m\n\u001b[0;32m      5\u001b[0m \u001b[1;31m# return to normal:\u001b[0m\u001b[1;33m\u001b[0m\u001b[1;33m\u001b[0m\u001b[1;33m\u001b[0m\u001b[0m\n",
      "\u001b[1;31mZeroDivisionError\u001b[0m: division by zero"
     ]
    }
   ],
   "source": [
    "save_sterr = sys.stderr\n",
    "fh = open(\"errors.txt\", \"w\")\n",
    "sys.stderr = fh\n",
    "x = 10/0\n",
    "\n",
    "# return to normal:\n",
    "sys.stderr = save_stderr\n",
    "fh.close"
   ]
  },
  {
   "cell_type": "code",
   "execution_count": 21,
   "metadata": {},
   "outputs": [
    {
     "ename": "ZeroDivisionError",
     "evalue": "division by zero",
     "output_type": "error",
     "traceback": [
      "\u001b[1;31m---------------------------------------------------------------------------\u001b[0m",
      "\u001b[1;31mZeroDivisionError\u001b[0m                         Traceback (most recent call last)",
      "\u001b[1;32m<ipython-input-21-2d84626cc965>\u001b[0m in \u001b[0;36m<module>\u001b[1;34m\u001b[0m\n\u001b[0;32m      3\u001b[0m \u001b[0msys\u001b[0m\u001b[1;33m.\u001b[0m\u001b[0mstderr\u001b[0m \u001b[1;33m=\u001b[0m \u001b[0mfh\u001b[0m\u001b[1;33m\u001b[0m\u001b[1;33m\u001b[0m\u001b[0m\n\u001b[0;32m      4\u001b[0m \u001b[1;33m\u001b[0m\u001b[0m\n\u001b[1;32m----> 5\u001b[1;33m \u001b[0mx\u001b[0m \u001b[1;33m=\u001b[0m \u001b[1;36m10\u001b[0m\u001b[1;33m/\u001b[0m\u001b[1;36m0\u001b[0m\u001b[1;33m\u001b[0m\u001b[1;33m\u001b[0m\u001b[0m\n\u001b[0m\u001b[0;32m      6\u001b[0m \u001b[1;33m\u001b[0m\u001b[0m\n\u001b[0;32m      7\u001b[0m \u001b[1;31m# return to normal:\u001b[0m\u001b[1;33m\u001b[0m\u001b[1;33m\u001b[0m\u001b[1;33m\u001b[0m\u001b[0m\n",
      "\u001b[1;31mZeroDivisionError\u001b[0m: division by zero"
     ]
    }
   ],
   "source": [
    "save_stderr = sys.stderr\n",
    "fh = open(\"errors.txt\", \"w\")\n",
    "sys.stderr = fh\n",
    "\n",
    "x = 10/0\n",
    "\n",
    "# return to normal:\n",
    "sys.stderr = save_stderr\n",
    "fh.close"
   ]
  },
  {
   "cell_type": "markdown",
   "metadata": {},
   "source": [
    "### Variables & Constants in Sys Module\n",
    "* variable * constants\n",
    " *  byteorder, executable, maxint, modules, path, platform"
   ]
  },
  {
   "cell_type": "markdown",
   "metadata": {},
   "source": [
    "### Python and Shell\n",
    "* A piece of software that provides an interface for a user to some other software of the operating system"
   ]
  },
  {
   "cell_type": "markdown",
   "metadata": {},
   "source": [
    "* Shell \n",
    "    *  -> GUI\n",
    "    *  -> GUI -> Bourne-Shell, C-Shell, Bash Shell"
   ]
  },
  {
   "cell_type": "markdown",
   "metadata": {},
   "source": [
    "### System programming\n",
    "* The activity of programming system components or system software"
   ]
  },
  {
   "cell_type": "markdown",
   "metadata": {},
   "source": [
    "* \"System focussed programming\"\n",
    " *  modules\n",
    "    *  sys\n",
    "    *  os"
   ]
  },
  {
   "cell_type": "markdown",
   "metadata": {},
   "source": [
    "### Advantages\n",
    "* Simple and clear\n",
    "* Well structured\n",
    "* Highly flexible"
   ]
  },
  {
   "cell_type": "markdown",
   "metadata": {},
   "source": [
    "### The 'os' Module\n",
    "* Executing Shell scripts with os.system()\n",
    "\n",
    "* Subprocess Module\n",
    " *  os.system -> os.spawn* -> os.popen*"
   ]
  },
  {
   "cell_type": "code",
   "execution_count": 24,
   "metadata": {},
   "outputs": [
    {
     "ename": "SyntaxError",
     "evalue": "invalid syntax (<ipython-input-24-93620768b7dc>, line 7)",
     "output_type": "error",
     "traceback": [
      "\u001b[1;36m  File \u001b[1;32m\"<ipython-input-24-93620768b7dc>\"\u001b[1;36m, line \u001b[1;32m7\u001b[0m\n\u001b[1;33m    os.system(\"bash - c\\ \"read -n\u001b[0m\n\u001b[1;37m                             ^\u001b[0m\n\u001b[1;31mSyntaxError\u001b[0m\u001b[1;31m:\u001b[0m invalid syntax\n"
     ]
    }
   ],
   "source": [
    "import os, platform\n",
    "\n",
    "if platform.system() == \"Windows\":\n",
    "    import msvcrt\n",
    "def getch():\n",
    "    if platform.system() == \"Linux\":\n",
    "        os.system(\"bash - c\\ \"read -n \n",
    "                  1\\\"\")\n",
    "    else:\n",
    "        msvcrt.getch()\n",
    "print(\"Type a key!\")\n",
    "getch()\n",
    "print(\"Okay\")"
   ]
  },
  {
   "cell_type": "markdown",
   "metadata": {},
   "source": [
    "### Fork in Python\n",
    "\n",
    "* Process -> Parent\n",
    "* Copy of Process -> Child\n",
    "\n",
    "* Starting independent processes with fork()\n",
    " *  exec*() function"
   ]
  },
  {
   "cell_type": "code",
   "execution_count": 27,
   "metadata": {},
   "outputs": [
    {
     "ename": "AttributeError",
     "evalue": "module 'os' has no attribute 'fork'",
     "output_type": "error",
     "traceback": [
      "\u001b[1;31m---------------------------------------------------------------------------\u001b[0m",
      "\u001b[1;31mAttributeError\u001b[0m                            Traceback (most recent call last)",
      "\u001b[1;32m<ipython-input-27-0ced05b013bc>\u001b[0m in \u001b[0;36m<module>\u001b[1;34m\u001b[0m\n\u001b[0;32m     18\u001b[0m         \u001b[1;32melse\u001b[0m\u001b[1;33m:\u001b[0m\u001b[1;33m\u001b[0m\u001b[1;33m\u001b[0m\u001b[0m\n\u001b[0;32m     19\u001b[0m                   \u001b[1;32mbreak\u001b[0m\u001b[1;33m\u001b[0m\u001b[1;33m\u001b[0m\u001b[0m\n\u001b[1;32m---> 20\u001b[1;33m \u001b[0mparent\u001b[0m\u001b[1;33m(\u001b[0m\u001b[1;33m)\u001b[0m\u001b[1;33m\u001b[0m\u001b[1;33m\u001b[0m\u001b[0m\n\u001b[0m",
      "\u001b[1;32m<ipython-input-27-0ced05b013bc>\u001b[0m in \u001b[0;36mparent\u001b[1;34m()\u001b[0m\n\u001b[0;32m      7\u001b[0m \u001b[1;32mdef\u001b[0m \u001b[0mparent\u001b[0m\u001b[1;33m(\u001b[0m\u001b[1;33m)\u001b[0m\u001b[1;33m:\u001b[0m\u001b[1;33m\u001b[0m\u001b[1;33m\u001b[0m\u001b[0m\n\u001b[0;32m      8\u001b[0m     \u001b[1;32mwhile\u001b[0m \u001b[1;32mTrue\u001b[0m\u001b[1;33m:\u001b[0m\u001b[1;33m\u001b[0m\u001b[1;33m\u001b[0m\u001b[0m\n\u001b[1;32m----> 9\u001b[1;33m         \u001b[0mnewpid\u001b[0m \u001b[1;33m=\u001b[0m \u001b[0mos\u001b[0m\u001b[1;33m.\u001b[0m\u001b[0mfork\u001b[0m\u001b[1;33m(\u001b[0m\u001b[1;33m)\u001b[0m\u001b[1;33m\u001b[0m\u001b[1;33m\u001b[0m\u001b[0m\n\u001b[0m\u001b[0;32m     10\u001b[0m         \u001b[1;32mif\u001b[0m \u001b[0mnewpid\u001b[0m \u001b[1;33m==\u001b[0m \u001b[1;36m0\u001b[0m\u001b[1;33m:\u001b[0m\u001b[1;33m\u001b[0m\u001b[1;33m\u001b[0m\u001b[0m\n\u001b[0;32m     11\u001b[0m             \u001b[0mchild\u001b[0m\u001b[1;33m(\u001b[0m\u001b[1;33m)\u001b[0m\u001b[1;33m\u001b[0m\u001b[1;33m\u001b[0m\u001b[0m\n",
      "\u001b[1;31mAttributeError\u001b[0m: module 'os' has no attribute 'fork'"
     ]
    }
   ],
   "source": [
    "import os\n",
    "\n",
    "def child():\n",
    "    print('\\nA new child', os.getpid())\n",
    "    os._exit(0)\n",
    "\n",
    "def parent():\n",
    "    while True:\n",
    "        newpid = os.fork()\n",
    "        if newpid == 0:\n",
    "            child()\n",
    "        else:\n",
    "            pids = (os.getpid(), newpid)\n",
    "            print(\"parent:  %d, child: %d\\n\" %pids)\n",
    "        reply = input(\"q for quit /c for new fork\")\n",
    "        if reply == 'c':\n",
    "                  continue\n",
    "        else:\n",
    "                  break\n",
    "parent()"
   ]
  },
  {
   "cell_type": "markdown",
   "metadata": {},
   "source": [
    "### exec*() functions\n",
    "* os.execl(path, arg0, arg1, ...)\n",
    "* os.execle(path, arg0, arg1, ...)\n",
    "* etc.\n",
    "\n",
    "* execl* (path, args), exexp*(file, a1, a2, a3, ...)\n",
    "* execle* (path, args, env), exexpe*(file, a1, ..., env)"
   ]
  },
  {
   "cell_type": "markdown",
   "metadata": {},
   "source": [
    "### What is thread?\n",
    "* The smallest unit that can be scheduled in an operating system\n",
    "* How to create a thread?\n",
    "* By forking a computer program in two or more parallel tasks\n",
    "* -> Types of threads: * kernel threads, * User threads"
   ]
  },
  {
   "cell_type": "markdown",
   "metadata": {},
   "source": [
    "### Global Variables\n",
    "In Python, a variable declared outside of the function or in global scope is known as **global variable**. This means, global variable can be accessed inside or outside of the function."
   ]
  },
  {
   "cell_type": "code",
   "execution_count": 7,
   "metadata": {},
   "outputs": [],
   "source": [
    "import threading"
   ]
  },
  {
   "cell_type": "code",
   "execution_count": 22,
   "metadata": {},
   "outputs": [
    {
     "name": "stdout",
     "output_type": "stream",
     "text": [
      "1 500.0\n",
      "500.0 250.999\n",
      "250.999 127.48954776911462\n",
      "127.48954776911462 67.66274213168452\n",
      "67.66274213168452 41.21357261818075\n",
      "41.21357261818075 32.72658006314248\n",
      "32.72658006314248 31.626113065211403\n",
      "31.626113065211403 31.60696705743235\n",
      "31.60696705743235 31.606961258558748\n",
      "31.606961258558748 31.606961258558215\n"
     ]
    },
    {
     "data": {
      "text/plain": [
       "31.606961258558215"
      ]
     },
     "execution_count": 22,
     "metadata": {},
     "output_type": "execute_result"
    }
   ],
   "source": [
    "from threading import Thread\n",
    "\n",
    "def heron(a):\n",
    "    \"\"\"Calculate the square root of a\"\"\"\n",
    "    eps = 0.0000001\n",
    "    old = 1\n",
    "    new = 1\n",
    "    while True:\n",
    "        old, new = new, (new + a/new) / 2.0\n",
    "        print(old, new)\n",
    "        if abs(new - old) < eps:\n",
    "            break\n",
    "    return new\n",
    "\n",
    "heron(999)\n"
   ]
  },
  {
   "cell_type": "code",
   "execution_count": 26,
   "metadata": {},
   "outputs": [],
   "source": [
    "from threading import Thread\n",
    "\n",
    "num_threads = 0\n",
    "def heron(a):\n",
    "    global num_threads\n",
    "    num_threads += 1\n",
    "    \n",
    "    # code has been left out, see above\n",
    "    num_threads -= 1\n",
    "    return num_threads\n",
    "\n",
    "heron(999)\n",
    "\n",
    "while num_threads > 0:\n",
    "    pass"
   ]
  },
  {
   "cell_type": "code",
   "execution_count": null,
   "metadata": {},
   "outputs": [],
   "source": [
    "from threading import Thread, allocate_lock\n",
    "num_threads = 0\n",
    "thread_started = False\n",
    "lock = thread.allocate_lock()\n",
    "\n",
    "def heron(a):\n",
    "    global num_threads, thread_started\n",
    "    lock."
   ]
  },
  {
   "cell_type": "code",
   "execution_count": 30,
   "metadata": {},
   "outputs": [],
   "source": [
    "from threading import Thread"
   ]
  },
  {
   "cell_type": "markdown",
   "metadata": {},
   "source": [
    "https://www.python-course.eu/threads.php"
   ]
  },
  {
   "cell_type": "markdown",
   "metadata": {},
   "source": [
    "### Whate are pipes?\n",
    "* Introducing modularity in the program to serve one instance output as the input to another instance and so on till solution is achieved\n",
    " *  Two kinds of pipes\n",
    "   *  anonymous -> exist solely within processes and are usually used in combination with forks\n",
    "   *  Named pipes"
   ]
  },
  {
   "cell_type": "markdown",
   "metadata": {},
   "source": [
    "### 99 bottles of beer"
   ]
  },
  {
   "cell_type": "markdown",
   "metadata": {},
   "source": [
    "https://www.w3resource.com/projects/python/python-projects-4.php"
   ]
  },
  {
   "cell_type": "code",
   "execution_count": 35,
   "metadata": {},
   "outputs": [
    {
     "name": "stdout",
     "output_type": "stream",
     "text": [
      "99 bottles of beer on the wall, 99 bottles of beer.\n",
      "Take one down and pass it around, 98 bottles of beer on the wall.\n",
      " \n",
      "98 bottles of beer on the wall, 98 bottles of beer.\n",
      "Take one down and pass it around, 97 bottles of beer on the wall.\n",
      " \n",
      "97 bottles of beer on the wall, 97 bottles of beer.\n",
      "Take one down and pass it around, 96 bottles of beer on the wall.\n",
      " \n",
      "96 bottles of beer on the wall, 96 bottles of beer.\n",
      "Take one down and pass it around, 95 bottles of beer on the wall.\n",
      " \n",
      "95 bottles of beer on the wall, 95 bottles of beer.\n",
      "Take one down and pass it around, 94 bottles of beer on the wall.\n",
      " \n",
      "94 bottles of beer on the wall, 94 bottles of beer.\n",
      "Take one down and pass it around, 93 bottles of beer on the wall.\n",
      " \n",
      "93 bottles of beer on the wall, 93 bottles of beer.\n",
      "Take one down and pass it around, 92 bottles of beer on the wall.\n",
      " \n",
      "92 bottles of beer on the wall, 92 bottles of beer.\n",
      "Take one down and pass it around, 91 bottles of beer on the wall.\n",
      " \n",
      "91 bottles of beer on the wall, 91 bottles of beer.\n",
      "Take one down and pass it around, 90 bottles of beer on the wall.\n",
      " \n",
      "90 bottles of beer on the wall, 90 bottles of beer.\n",
      "Take one down and pass it around, 89 bottles of beer on the wall.\n",
      " \n",
      "89 bottles of beer on the wall, 89 bottles of beer.\n",
      "Take one down and pass it around, 88 bottles of beer on the wall.\n",
      " \n",
      "88 bottles of beer on the wall, 88 bottles of beer.\n",
      "Take one down and pass it around, 87 bottles of beer on the wall.\n",
      " \n",
      "87 bottles of beer on the wall, 87 bottles of beer.\n",
      "Take one down and pass it around, 86 bottles of beer on the wall.\n",
      " \n",
      "86 bottles of beer on the wall, 86 bottles of beer.\n",
      "Take one down and pass it around, 85 bottles of beer on the wall.\n",
      " \n",
      "85 bottles of beer on the wall, 85 bottles of beer.\n",
      "Take one down and pass it around, 84 bottles of beer on the wall.\n",
      " \n",
      "84 bottles of beer on the wall, 84 bottles of beer.\n",
      "Take one down and pass it around, 83 bottles of beer on the wall.\n",
      " \n",
      "83 bottles of beer on the wall, 83 bottles of beer.\n",
      "Take one down and pass it around, 82 bottles of beer on the wall.\n",
      " \n",
      "82 bottles of beer on the wall, 82 bottles of beer.\n",
      "Take one down and pass it around, 81 bottles of beer on the wall.\n",
      " \n",
      "81 bottles of beer on the wall, 81 bottles of beer.\n",
      "Take one down and pass it around, 80 bottles of beer on the wall.\n",
      " \n",
      "80 bottles of beer on the wall, 80 bottles of beer.\n",
      "Take one down and pass it around, 79 bottles of beer on the wall.\n",
      " \n",
      "79 bottles of beer on the wall, 79 bottles of beer.\n",
      "Take one down and pass it around, 78 bottles of beer on the wall.\n",
      " \n",
      "78 bottles of beer on the wall, 78 bottles of beer.\n",
      "Take one down and pass it around, 77 bottles of beer on the wall.\n",
      " \n",
      "77 bottles of beer on the wall, 77 bottles of beer.\n",
      "Take one down and pass it around, 76 bottles of beer on the wall.\n",
      " \n",
      "76 bottles of beer on the wall, 76 bottles of beer.\n",
      "Take one down and pass it around, 75 bottles of beer on the wall.\n",
      " \n",
      "75 bottles of beer on the wall, 75 bottles of beer.\n",
      "Take one down and pass it around, 74 bottles of beer on the wall.\n",
      " \n",
      "74 bottles of beer on the wall, 74 bottles of beer.\n",
      "Take one down and pass it around, 73 bottles of beer on the wall.\n",
      " \n",
      "73 bottles of beer on the wall, 73 bottles of beer.\n",
      "Take one down and pass it around, 72 bottles of beer on the wall.\n",
      " \n",
      "72 bottles of beer on the wall, 72 bottles of beer.\n",
      "Take one down and pass it around, 71 bottles of beer on the wall.\n",
      " \n",
      "71 bottles of beer on the wall, 71 bottles of beer.\n",
      "Take one down and pass it around, 70 bottles of beer on the wall.\n",
      " \n",
      "70 bottles of beer on the wall, 70 bottles of beer.\n",
      "Take one down and pass it around, 69 bottles of beer on the wall.\n",
      " \n",
      "69 bottles of beer on the wall, 69 bottles of beer.\n",
      "Take one down and pass it around, 68 bottles of beer on the wall.\n",
      " \n",
      "68 bottles of beer on the wall, 68 bottles of beer.\n",
      "Take one down and pass it around, 67 bottles of beer on the wall.\n",
      " \n",
      "67 bottles of beer on the wall, 67 bottles of beer.\n",
      "Take one down and pass it around, 66 bottles of beer on the wall.\n",
      " \n",
      "66 bottles of beer on the wall, 66 bottles of beer.\n",
      "Take one down and pass it around, 65 bottles of beer on the wall.\n",
      " \n",
      "65 bottles of beer on the wall, 65 bottles of beer.\n",
      "Take one down and pass it around, 64 bottles of beer on the wall.\n",
      " \n",
      "64 bottles of beer on the wall, 64 bottles of beer.\n",
      "Take one down and pass it around, 63 bottles of beer on the wall.\n",
      " \n",
      "63 bottles of beer on the wall, 63 bottles of beer.\n",
      "Take one down and pass it around, 62 bottles of beer on the wall.\n",
      " \n",
      "62 bottles of beer on the wall, 62 bottles of beer.\n",
      "Take one down and pass it around, 61 bottles of beer on the wall.\n",
      " \n",
      "61 bottles of beer on the wall, 61 bottles of beer.\n",
      "Take one down and pass it around, 60 bottles of beer on the wall.\n",
      " \n",
      "60 bottles of beer on the wall, 60 bottles of beer.\n",
      "Take one down and pass it around, 59 bottles of beer on the wall.\n",
      " \n",
      "59 bottles of beer on the wall, 59 bottles of beer.\n",
      "Take one down and pass it around, 58 bottles of beer on the wall.\n",
      " \n",
      "58 bottles of beer on the wall, 58 bottles of beer.\n",
      "Take one down and pass it around, 57 bottles of beer on the wall.\n",
      " \n",
      "57 bottles of beer on the wall, 57 bottles of beer.\n",
      "Take one down and pass it around, 56 bottles of beer on the wall.\n",
      " \n",
      "56 bottles of beer on the wall, 56 bottles of beer.\n",
      "Take one down and pass it around, 55 bottles of beer on the wall.\n",
      " \n",
      "55 bottles of beer on the wall, 55 bottles of beer.\n",
      "Take one down and pass it around, 54 bottles of beer on the wall.\n",
      " \n",
      "54 bottles of beer on the wall, 54 bottles of beer.\n",
      "Take one down and pass it around, 53 bottles of beer on the wall.\n",
      " \n",
      "53 bottles of beer on the wall, 53 bottles of beer.\n",
      "Take one down and pass it around, 52 bottles of beer on the wall.\n",
      " \n",
      "52 bottles of beer on the wall, 52 bottles of beer.\n",
      "Take one down and pass it around, 51 bottles of beer on the wall.\n",
      " \n",
      "51 bottles of beer on the wall, 51 bottles of beer.\n",
      "Take one down and pass it around, 50 bottles of beer on the wall.\n",
      " \n",
      "50 bottles of beer on the wall, 50 bottles of beer.\n",
      "Take one down and pass it around, 49 bottles of beer on the wall.\n",
      " \n",
      "49 bottles of beer on the wall, 49 bottles of beer.\n",
      "Take one down and pass it around, 48 bottles of beer on the wall.\n",
      " \n",
      "48 bottles of beer on the wall, 48 bottles of beer.\n",
      "Take one down and pass it around, 47 bottles of beer on the wall.\n",
      " \n",
      "47 bottles of beer on the wall, 47 bottles of beer.\n",
      "Take one down and pass it around, 46 bottles of beer on the wall.\n",
      " \n",
      "46 bottles of beer on the wall, 46 bottles of beer.\n",
      "Take one down and pass it around, 45 bottles of beer on the wall.\n",
      " \n",
      "45 bottles of beer on the wall, 45 bottles of beer.\n",
      "Take one down and pass it around, 44 bottles of beer on the wall.\n",
      " \n",
      "44 bottles of beer on the wall, 44 bottles of beer.\n",
      "Take one down and pass it around, 43 bottles of beer on the wall.\n",
      " \n",
      "43 bottles of beer on the wall, 43 bottles of beer.\n",
      "Take one down and pass it around, 42 bottles of beer on the wall.\n",
      " \n",
      "42 bottles of beer on the wall, 42 bottles of beer.\n",
      "Take one down and pass it around, 41 bottles of beer on the wall.\n",
      " \n",
      "41 bottles of beer on the wall, 41 bottles of beer.\n",
      "Take one down and pass it around, 40 bottles of beer on the wall.\n",
      " \n",
      "40 bottles of beer on the wall, 40 bottles of beer.\n",
      "Take one down and pass it around, 39 bottles of beer on the wall.\n",
      " \n",
      "39 bottles of beer on the wall, 39 bottles of beer.\n",
      "Take one down and pass it around, 38 bottles of beer on the wall.\n",
      " \n",
      "38 bottles of beer on the wall, 38 bottles of beer.\n",
      "Take one down and pass it around, 37 bottles of beer on the wall.\n",
      " \n",
      "37 bottles of beer on the wall, 37 bottles of beer.\n",
      "Take one down and pass it around, 36 bottles of beer on the wall.\n",
      " \n",
      "36 bottles of beer on the wall, 36 bottles of beer.\n",
      "Take one down and pass it around, 35 bottles of beer on the wall.\n",
      " \n",
      "35 bottles of beer on the wall, 35 bottles of beer.\n",
      "Take one down and pass it around, 34 bottles of beer on the wall.\n",
      " \n",
      "34 bottles of beer on the wall, 34 bottles of beer.\n",
      "Take one down and pass it around, 33 bottles of beer on the wall.\n",
      " \n",
      "33 bottles of beer on the wall, 33 bottles of beer.\n",
      "Take one down and pass it around, 32 bottles of beer on the wall.\n",
      " \n",
      "32 bottles of beer on the wall, 32 bottles of beer.\n",
      "Take one down and pass it around, 31 bottles of beer on the wall.\n",
      " \n",
      "31 bottles of beer on the wall, 31 bottles of beer.\n",
      "Take one down and pass it around, 30 bottles of beer on the wall.\n",
      " \n",
      "30 bottles of beer on the wall, 30 bottles of beer.\n",
      "Take one down and pass it around, 29 bottles of beer on the wall.\n",
      " \n",
      "29 bottles of beer on the wall, 29 bottles of beer.\n",
      "Take one down and pass it around, 28 bottles of beer on the wall.\n",
      " \n",
      "28 bottles of beer on the wall, 28 bottles of beer.\n",
      "Take one down and pass it around, 27 bottles of beer on the wall.\n",
      " \n",
      "27 bottles of beer on the wall, 27 bottles of beer.\n",
      "Take one down and pass it around, 26 bottles of beer on the wall.\n",
      " \n",
      "26 bottles of beer on the wall, 26 bottles of beer.\n",
      "Take one down and pass it around, 25 bottles of beer on the wall.\n",
      " \n",
      "25 bottles of beer on the wall, 25 bottles of beer.\n",
      "Take one down and pass it around, 24 bottles of beer on the wall.\n",
      " \n",
      "24 bottles of beer on the wall, 24 bottles of beer.\n",
      "Take one down and pass it around, 23 bottles of beer on the wall.\n",
      " \n",
      "23 bottles of beer on the wall, 23 bottles of beer.\n",
      "Take one down and pass it around, 22 bottles of beer on the wall.\n",
      " \n",
      "22 bottles of beer on the wall, 22 bottles of beer.\n",
      "Take one down and pass it around, 21 bottles of beer on the wall.\n",
      " \n",
      "21 bottles of beer on the wall, 21 bottles of beer.\n",
      "Take one down and pass it around, 20 bottles of beer on the wall.\n",
      " \n",
      "20 bottles of beer on the wall, 20 bottles of beer.\n",
      "Take one down and pass it around, 19 bottles of beer on the wall.\n",
      " \n",
      "19 bottles of beer on the wall, 19 bottles of beer.\n",
      "Take one down and pass it around, 18 bottles of beer on the wall.\n",
      " \n",
      "18 bottles of beer on the wall, 18 bottles of beer.\n",
      "Take one down and pass it around, 17 bottles of beer on the wall.\n",
      " \n",
      "17 bottles of beer on the wall, 17 bottles of beer.\n",
      "Take one down and pass it around, 16 bottles of beer on the wall.\n",
      " \n",
      "16 bottles of beer on the wall, 16 bottles of beer.\n",
      "Take one down and pass it around, 15 bottles of beer on the wall.\n",
      " \n",
      "15 bottles of beer on the wall, 15 bottles of beer.\n",
      "Take one down and pass it around, 14 bottles of beer on the wall.\n",
      " \n",
      "14 bottles of beer on the wall, 14 bottles of beer.\n",
      "Take one down and pass it around, 13 bottles of beer on the wall.\n",
      " \n",
      "13 bottles of beer on the wall, 13 bottles of beer.\n",
      "Take one down and pass it around, 12 bottles of beer on the wall.\n",
      " \n",
      "12 bottles of beer on the wall, 12 bottles of beer.\n",
      "Take one down and pass it around, 11 bottles of beer on the wall.\n",
      " \n",
      "11 bottles of beer on the wall, 11 bottles of beer.\n",
      "Take one down and pass it around, 10 bottles of beer on the wall.\n",
      " \n",
      "10 bottles of beer on the wall, 10 bottles of beer.\n",
      "Take one down and pass it around, 9 bottles of beer on the wall.\n",
      " \n",
      "9 bottles of beer on the wall, 9 bottles of beer.\n",
      "Take one down and pass it around, 8 bottles of beer on the wall.\n",
      " \n",
      "8 bottles of beer on the wall, 8 bottles of beer.\n",
      "Take one down and pass it around, 7 bottles of beer on the wall.\n",
      " \n",
      "7 bottles of beer on the wall, 7 bottles of beer.\n",
      "Take one down and pass it around, 6 bottles of beer on the wall.\n",
      " \n",
      "6 bottles of beer on the wall, 6 bottles of beer.\n",
      "Take one down and pass it around, 5 bottles of beer on the wall.\n",
      " \n",
      "5 bottles of beer on the wall, 5 bottles of beer.\n",
      "Take one down and pass it around, 4 bottles of beer on the wall.\n",
      " \n",
      "4 bottles of beer on the wall, 4 bottles of beer.\n",
      "Take one down and pass it around, 3 bottles of beer on the wall.\n",
      " \n",
      "3 bottles of beer on the wall, 3 bottles of beer.\n",
      "Take one down and pass it around, 2 bottles of beer on the wall.\n",
      " \n",
      "2 bottles of beer on the wall, 2 bottles of beer.\n",
      "Take one down and pass it around, 1 bottle of beer on the wall.\n",
      " \n",
      "1 bottle of beer on the wall, 1 bottle of beer.\n",
      "Take one down and pass it around, 0 bottles of beer on the wall.\n",
      " \n",
      "No more bottles of beer on the wall, no more bottles of beer.\n",
      "Go to the store and buy some more, 99 bottles of beer on the wall.\n"
     ]
    }
   ],
   "source": [
    "def sing(n):\n",
    "\tif (n == 1):\n",
    "\t\tobjects = 'bottle'\n",
    "\t\tobjectsMinusOne = 'bottles'\n",
    "\telif (n == 2):\n",
    "\t\tobjects = 'bottles'\n",
    "\t\tobjectsMinusOne = 'bottle'\n",
    "\telse:\n",
    "\t\tobjects = 'bottles'\n",
    "\t\tobjectsMinusOne = 'bottles'\n",
    "\n",
    "\n",
    "\tif (n > 0):\n",
    "\t\tprint(str(n) + \" \" + objects + \" of beer on the wall, \" + str(n) + \" \" + objects + \" of beer.\")\n",
    "\t\tprint(\"Take one down and pass it around, \" + str(n-1) + \" \" + objectsMinusOne + \" of beer on the wall.\")\n",
    "\t\tprint(\" \")\n",
    "\telif (n == 0):\n",
    "\t\tprint(\"No more bottles of beer on the wall, no more bottles of beer.\")\n",
    "\t\tprint(\"Go to the store and buy some more, 99 bottles of beer on the wall.\")\n",
    "\telse:\n",
    "\t\tprint(\"Error: Wheres the booze?\")\n",
    "bottles = 99\n",
    "\n",
    "while bottles >= 0:\n",
    "\tsing(bottles)\n",
    "\tbottles -= 1"
   ]
  },
  {
   "attachments": {
    "image.png": {
     "image/png": "[encoded data removed]"
    }
   },
   "cell_type": "markdown",
   "metadata": {},
   "source": [
    "![image.png](attachment:image.png)"
   ]
  },
  {
   "cell_type": "code",
   "execution_count": 42,
   "metadata": {},
   "outputs": [
    {
     "name": "stdout",
     "output_type": "stream",
     "text": [
      "99 bottles of beer on the wall\n",
      "99 bottles of beer\n",
      "Take one down, pass it around\n",
      "98 bottles of beer on the wall\n",
      "98 bottles of beer on the wall\n",
      "98 bottles of beer\n",
      "Take one down, pass it around\n",
      "97 bottles of beer on the wall\n",
      "97 bottles of beer on the wall\n",
      "97 bottles of beer\n",
      "Take one down, pass it around\n",
      "96 bottles of beer on the wall\n",
      "96 bottles of beer on the wall\n",
      "96 bottles of beer\n",
      "Take one down, pass it around\n",
      "95 bottles of beer on the wall\n",
      "95 bottles of beer on the wall\n",
      "95 bottles of beer\n",
      "Take one down, pass it around\n",
      "94 bottles of beer on the wall\n",
      "94 bottles of beer on the wall\n",
      "94 bottles of beer\n",
      "Take one down, pass it around\n",
      "93 bottles of beer on the wall\n",
      "93 bottles of beer on the wall\n",
      "93 bottles of beer\n",
      "Take one down, pass it around\n",
      "92 bottles of beer on the wall\n",
      "92 bottles of beer on the wall\n",
      "92 bottles of beer\n",
      "Take one down, pass it around\n",
      "91 bottles of beer on the wall\n",
      "91 bottles of beer on the wall\n",
      "91 bottles of beer\n",
      "Take one down, pass it around\n",
      "90 bottles of beer on the wall\n",
      "90 bottles of beer on the wall\n",
      "90 bottles of beer\n",
      "Take one down, pass it around\n",
      "89 bottles of beer on the wall\n",
      "89 bottles of beer on the wall\n",
      "89 bottles of beer\n",
      "Take one down, pass it around\n",
      "88 bottles of beer on the wall\n",
      "88 bottles of beer on the wall\n",
      "88 bottles of beer\n",
      "Take one down, pass it around\n",
      "87 bottles of beer on the wall\n",
      "87 bottles of beer on the wall\n",
      "87 bottles of beer\n",
      "Take one down, pass it around\n",
      "86 bottles of beer on the wall\n",
      "86 bottles of beer on the wall\n",
      "86 bottles of beer\n",
      "Take one down, pass it around\n",
      "85 bottles of beer on the wall\n",
      "85 bottles of beer on the wall\n",
      "85 bottles of beer\n",
      "Take one down, pass it around\n",
      "84 bottles of beer on the wall\n",
      "84 bottles of beer on the wall\n",
      "84 bottles of beer\n",
      "Take one down, pass it around\n",
      "83 bottles of beer on the wall\n",
      "83 bottles of beer on the wall\n",
      "83 bottles of beer\n",
      "Take one down, pass it around\n",
      "82 bottles of beer on the wall\n",
      "82 bottles of beer on the wall\n",
      "82 bottles of beer\n",
      "Take one down, pass it around\n",
      "81 bottles of beer on the wall\n",
      "81 bottles of beer on the wall\n",
      "81 bottles of beer\n",
      "Take one down, pass it around\n",
      "80 bottles of beer on the wall\n",
      "80 bottles of beer on the wall\n",
      "80 bottles of beer\n",
      "Take one down, pass it around\n",
      "79 bottles of beer on the wall\n",
      "79 bottles of beer on the wall\n",
      "79 bottles of beer\n",
      "Take one down, pass it around\n",
      "78 bottles of beer on the wall\n",
      "78 bottles of beer on the wall\n",
      "78 bottles of beer\n",
      "Take one down, pass it around\n",
      "77 bottles of beer on the wall\n",
      "77 bottles of beer on the wall\n",
      "77 bottles of beer\n",
      "Take one down, pass it around\n",
      "76 bottles of beer on the wall\n",
      "76 bottles of beer on the wall\n",
      "76 bottles of beer\n",
      "Take one down, pass it around\n",
      "75 bottles of beer on the wall\n",
      "75 bottles of beer on the wall\n",
      "75 bottles of beer\n",
      "Take one down, pass it around\n",
      "74 bottles of beer on the wall\n",
      "74 bottles of beer on the wall\n",
      "74 bottles of beer\n",
      "Take one down, pass it around\n",
      "73 bottles of beer on the wall\n",
      "73 bottles of beer on the wall\n",
      "73 bottles of beer\n",
      "Take one down, pass it around\n",
      "72 bottles of beer on the wall\n",
      "72 bottles of beer on the wall\n",
      "72 bottles of beer\n",
      "Take one down, pass it around\n",
      "71 bottles of beer on the wall\n",
      "71 bottles of beer on the wall\n",
      "71 bottles of beer\n",
      "Take one down, pass it around\n",
      "70 bottles of beer on the wall\n",
      "70 bottles of beer on the wall\n",
      "70 bottles of beer\n",
      "Take one down, pass it around\n",
      "69 bottles of beer on the wall\n",
      "69 bottles of beer on the wall\n",
      "69 bottles of beer\n",
      "Take one down, pass it around\n",
      "68 bottles of beer on the wall\n",
      "68 bottles of beer on the wall\n",
      "68 bottles of beer\n",
      "Take one down, pass it around\n",
      "67 bottles of beer on the wall\n",
      "67 bottles of beer on the wall\n",
      "67 bottles of beer\n",
      "Take one down, pass it around\n",
      "66 bottles of beer on the wall\n",
      "66 bottles of beer on the wall\n",
      "66 bottles of beer\n",
      "Take one down, pass it around\n",
      "65 bottles of beer on the wall\n",
      "65 bottles of beer on the wall\n",
      "65 bottles of beer\n",
      "Take one down, pass it around\n",
      "64 bottles of beer on the wall\n",
      "64 bottles of beer on the wall\n",
      "64 bottles of beer\n",
      "Take one down, pass it around\n",
      "63 bottles of beer on the wall\n",
      "63 bottles of beer on the wall\n",
      "63 bottles of beer\n",
      "Take one down, pass it around\n",
      "62 bottles of beer on the wall\n",
      "62 bottles of beer on the wall\n",
      "62 bottles of beer\n",
      "Take one down, pass it around\n",
      "61 bottles of beer on the wall\n",
      "61 bottles of beer on the wall\n",
      "61 bottles of beer\n",
      "Take one down, pass it around\n",
      "60 bottles of beer on the wall\n",
      "60 bottles of beer on the wall\n",
      "60 bottles of beer\n",
      "Take one down, pass it around\n",
      "59 bottles of beer on the wall\n",
      "59 bottles of beer on the wall\n",
      "59 bottles of beer\n",
      "Take one down, pass it around\n",
      "58 bottles of beer on the wall\n",
      "58 bottles of beer on the wall\n",
      "58 bottles of beer\n",
      "Take one down, pass it around\n",
      "57 bottles of beer on the wall\n",
      "57 bottles of beer on the wall\n",
      "57 bottles of beer\n",
      "Take one down, pass it around\n",
      "56 bottles of beer on the wall\n",
      "56 bottles of beer on the wall\n",
      "56 bottles of beer\n",
      "Take one down, pass it around\n",
      "55 bottles of beer on the wall\n",
      "55 bottles of beer on the wall\n",
      "55 bottles of beer\n",
      "Take one down, pass it around\n",
      "54 bottles of beer on the wall\n",
      "54 bottles of beer on the wall\n",
      "54 bottles of beer\n",
      "Take one down, pass it around\n",
      "53 bottles of beer on the wall\n",
      "53 bottles of beer on the wall\n",
      "53 bottles of beer\n",
      "Take one down, pass it around\n",
      "52 bottles of beer on the wall\n",
      "52 bottles of beer on the wall\n",
      "52 bottles of beer\n",
      "Take one down, pass it around\n",
      "51 bottles of beer on the wall\n",
      "51 bottles of beer on the wall\n",
      "51 bottles of beer\n",
      "Take one down, pass it around\n",
      "50 bottles of beer on the wall\n",
      "50 bottles of beer on the wall\n",
      "50 bottles of beer\n",
      "Take one down, pass it around\n",
      "49 bottles of beer on the wall\n",
      "49 bottles of beer on the wall\n",
      "49 bottles of beer\n",
      "Take one down, pass it around\n",
      "48 bottles of beer on the wall\n",
      "48 bottles of beer on the wall\n",
      "48 bottles of beer\n",
      "Take one down, pass it around\n",
      "47 bottles of beer on the wall\n",
      "47 bottles of beer on the wall\n",
      "47 bottles of beer\n",
      "Take one down, pass it around\n",
      "46 bottles of beer on the wall\n",
      "46 bottles of beer on the wall\n",
      "46 bottles of beer\n",
      "Take one down, pass it around\n",
      "45 bottles of beer on the wall\n",
      "45 bottles of beer on the wall\n",
      "45 bottles of beer\n",
      "Take one down, pass it around\n",
      "44 bottles of beer on the wall\n",
      "44 bottles of beer on the wall\n",
      "44 bottles of beer\n",
      "Take one down, pass it around\n",
      "43 bottles of beer on the wall\n",
      "43 bottles of beer on the wall\n",
      "43 bottles of beer\n",
      "Take one down, pass it around\n",
      "42 bottles of beer on the wall\n",
      "42 bottles of beer on the wall\n",
      "42 bottles of beer\n",
      "Take one down, pass it around\n",
      "41 bottles of beer on the wall\n",
      "41 bottles of beer on the wall\n",
      "41 bottles of beer\n",
      "Take one down, pass it around\n",
      "40 bottles of beer on the wall\n",
      "40 bottles of beer on the wall\n",
      "40 bottles of beer\n",
      "Take one down, pass it around\n",
      "39 bottles of beer on the wall\n",
      "39 bottles of beer on the wall\n",
      "39 bottles of beer\n",
      "Take one down, pass it around\n",
      "38 bottles of beer on the wall\n",
      "38 bottles of beer on the wall\n",
      "38 bottles of beer\n",
      "Take one down, pass it around\n",
      "37 bottles of beer on the wall\n",
      "37 bottles of beer on the wall\n",
      "37 bottles of beer\n",
      "Take one down, pass it around\n",
      "36 bottles of beer on the wall\n",
      "36 bottles of beer on the wall\n",
      "36 bottles of beer\n",
      "Take one down, pass it around\n",
      "35 bottles of beer on the wall\n",
      "35 bottles of beer on the wall\n",
      "35 bottles of beer\n",
      "Take one down, pass it around\n",
      "34 bottles of beer on the wall\n",
      "34 bottles of beer on the wall\n",
      "34 bottles of beer\n",
      "Take one down, pass it around\n",
      "33 bottles of beer on the wall\n",
      "33 bottles of beer on the wall\n",
      "33 bottles of beer\n",
      "Take one down, pass it around\n",
      "32 bottles of beer on the wall\n",
      "32 bottles of beer on the wall\n",
      "32 bottles of beer\n",
      "Take one down, pass it around\n",
      "31 bottles of beer on the wall\n",
      "31 bottles of beer on the wall\n",
      "31 bottles of beer\n",
      "Take one down, pass it around\n",
      "30 bottles of beer on the wall\n",
      "30 bottles of beer on the wall\n",
      "30 bottles of beer\n",
      "Take one down, pass it around\n",
      "29 bottles of beer on the wall\n",
      "29 bottles of beer on the wall\n",
      "29 bottles of beer\n",
      "Take one down, pass it around\n",
      "28 bottles of beer on the wall\n",
      "28 bottles of beer on the wall\n",
      "28 bottles of beer\n",
      "Take one down, pass it around\n",
      "27 bottles of beer on the wall\n",
      "27 bottles of beer on the wall\n",
      "27 bottles of beer\n",
      "Take one down, pass it around\n",
      "26 bottles of beer on the wall\n",
      "26 bottles of beer on the wall\n",
      "26 bottles of beer\n",
      "Take one down, pass it around\n",
      "25 bottles of beer on the wall\n",
      "25 bottles of beer on the wall\n",
      "25 bottles of beer\n",
      "Take one down, pass it around\n",
      "24 bottles of beer on the wall\n",
      "24 bottles of beer on the wall\n",
      "24 bottles of beer\n",
      "Take one down, pass it around\n",
      "23 bottles of beer on the wall\n",
      "23 bottles of beer on the wall\n",
      "23 bottles of beer\n",
      "Take one down, pass it around\n",
      "22 bottles of beer on the wall\n",
      "22 bottles of beer on the wall\n",
      "22 bottles of beer\n",
      "Take one down, pass it around\n",
      "21 bottles of beer on the wall\n",
      "21 bottles of beer on the wall\n",
      "21 bottles of beer\n",
      "Take one down, pass it around\n",
      "20 bottles of beer on the wall\n",
      "20 bottles of beer on the wall\n",
      "20 bottles of beer\n",
      "Take one down, pass it around\n",
      "19 bottles of beer on the wall\n",
      "19 bottles of beer on the wall\n",
      "19 bottles of beer\n",
      "Take one down, pass it around\n",
      "18 bottles of beer on the wall\n",
      "18 bottles of beer on the wall\n",
      "18 bottles of beer\n",
      "Take one down, pass it around\n",
      "17 bottles of beer on the wall\n",
      "17 bottles of beer on the wall\n",
      "17 bottles of beer\n",
      "Take one down, pass it around\n",
      "16 bottles of beer on the wall\n",
      "16 bottles of beer on the wall\n",
      "16 bottles of beer\n",
      "Take one down, pass it around\n",
      "15 bottles of beer on the wall\n",
      "15 bottles of beer on the wall\n",
      "15 bottles of beer\n",
      "Take one down, pass it around\n",
      "14 bottles of beer on the wall\n",
      "14 bottles of beer on the wall\n",
      "14 bottles of beer\n",
      "Take one down, pass it around\n",
      "13 bottles of beer on the wall\n",
      "13 bottles of beer on the wall\n",
      "13 bottles of beer\n",
      "Take one down, pass it around\n",
      "12 bottles of beer on the wall\n",
      "12 bottles of beer on the wall\n",
      "12 bottles of beer\n",
      "Take one down, pass it around\n",
      "11 bottles of beer on the wall\n",
      "11 bottles of beer on the wall\n",
      "11 bottles of beer\n",
      "Take one down, pass it around\n",
      "10 bottles of beer on the wall\n",
      "10 bottles of beer on the wall\n",
      "10 bottles of beer\n",
      "Take one down, pass it around\n",
      "9 bottles of beer on the wall\n",
      "9 bottles of beer on the wall\n",
      "9 bottles of beer\n",
      "Take one down, pass it around\n",
      "8 bottles of beer on the wall\n",
      "8 bottles of beer on the wall\n",
      "8 bottles of beer\n",
      "Take one down, pass it around\n",
      "7 bottles of beer on the wall\n",
      "7 bottles of beer on the wall\n",
      "7 bottles of beer\n",
      "Take one down, pass it around\n",
      "6 bottles of beer on the wall\n",
      "6 bottles of beer on the wall\n",
      "6 bottles of beer\n",
      "Take one down, pass it around\n",
      "5 bottles of beer on the wall\n",
      "5 bottles of beer on the wall\n",
      "5 bottles of beer\n",
      "Take one down, pass it around\n",
      "4 bottles of beer on the wall\n",
      "4 bottles of beer on the wall\n",
      "4 bottles of beer\n",
      "Take one down, pass it around\n",
      "3 bottles of beer on the wall\n",
      "3 bottles of beer on the wall\n",
      "3 bottles of beer\n",
      "Take one down, pass it around\n",
      "2 bottles of beer on the wall\n",
      "2 bottles of beer on the wall\n",
      "2 bottles of beer\n",
      "Take one down, pass it around\n",
      "1 bottles of beer on the wall\n",
      "1 bottles of beer on the wall\n",
      "1 bottles of beer\n",
      "Take one down, pass it around\n",
      "0 bottles of beer on the wall\n"
     ]
    }
   ],
   "source": [
    "import time\n",
    "\n",
    "bottles = 99\n",
    "while bottles > 0:\n",
    "    print(bottles,\"bottles of beer on the wall\")\n",
    "    print(bottles,\"bottles of beer\")\n",
    "    print(\"Take one down, pass it around\")\n",
    "    bottles = bottles - 1\n",
    "    print(bottles,\"bottles of beer on the wall\")\n",
    "    ## time.sleep(1)"
   ]
  },
  {
   "attachments": {
    "image.png": {
     "image/png": "[encoded data removed]"
    }
   },
   "cell_type": "markdown",
   "metadata": {},
   "source": [
    "![image.png](attachment:image.png)"
   ]
  },
  {
   "cell_type": "code",
   "execution_count": null,
   "metadata": {},
   "outputs": [],
   "source": [
    " \n",
    "def counter():\n",
    "    for i in range(99,-1,-1):\n",
    "        if i == 0:\n",
    "            print (\"No more bottles of beer on the wall, no more bottles of beer.\")\n",
    "            print (\"Go to the store and buy some more,99 bottles of beer on the wall\")\n",
    "        elif i == 1:\n",
    "            print (\"1 bottle of beer on the wall, 1 bottle of beer.\")\n",
    "            print (\"Take one down and pass it around, no more bottles of beer to go\")\n",
    "        elif i == 2:\n",
    "            print (i,\" bottles of beer on the wall, \",i,\" bottles of beer.\")\n",
    "            print (\"Take one down and pass it around, \",i-1,\" bottle of beer on the wall.\")\n",
    "        else :\n",
    "            print (i,\" bottles of beer on the wall, \",i,\" bottles of beer.\")\n",
    "            print (\"Take one down and pass it around, \",i-1,\" bottles of beer on the wall.\")\n",
    "\n",
    "counter()            \n"
   ]
  },
  {
   "attachments": {
    "image.png": {
     "image/png": "[encoded data removed]"
    }
   },
   "cell_type": "markdown",
   "metadata": {},
   "source": [
    "![image.png](attachment:image.png)"
   ]
  },
  {
   "cell_type": "code",
   "execution_count": 33,
   "metadata": {
    "scrolled": true
   },
   "outputs": [
    {
     "name": "stdout",
     "output_type": "stream",
     "text": [
      "99 bottles of beer on the wall, 99 bottles of beer, take one down, pass it around, 98 bottles of beer on the wall\n",
      "98 bottles of beer on the wall, 98 bottles of beer, take one down, pass it around, 97 bottles of beer on the wall\n",
      "97 bottles of beer on the wall, 97 bottles of beer, take one down, pass it around, 96 bottles of beer on the wall\n",
      "96 bottles of beer on the wall, 96 bottles of beer, take one down, pass it around, 95 bottles of beer on the wall\n",
      "95 bottles of beer on the wall, 95 bottles of beer, take one down, pass it around, 94 bottles of beer on the wall\n",
      "94 bottles of beer on the wall, 94 bottles of beer, take one down, pass it around, 93 bottles of beer on the wall\n",
      "93 bottles of beer on the wall, 93 bottles of beer, take one down, pass it around, 92 bottles of beer on the wall\n",
      "92 bottles of beer on the wall, 92 bottles of beer, take one down, pass it around, 91 bottles of beer on the wall\n",
      "91 bottles of beer on the wall, 91 bottles of beer, take one down, pass it around, 90 bottles of beer on the wall\n",
      "90 bottles of beer on the wall, 90 bottles of beer, take one down, pass it around, 89 bottles of beer on the wall\n",
      "89 bottles of beer on the wall, 89 bottles of beer, take one down, pass it around, 88 bottles of beer on the wall\n",
      "88 bottles of beer on the wall, 88 bottles of beer, take one down, pass it around, 87 bottles of beer on the wall\n",
      "87 bottles of beer on the wall, 87 bottles of beer, take one down, pass it around, 86 bottles of beer on the wall\n",
      "86 bottles of beer on the wall, 86 bottles of beer, take one down, pass it around, 85 bottles of beer on the wall\n",
      "85 bottles of beer on the wall, 85 bottles of beer, take one down, pass it around, 84 bottles of beer on the wall\n",
      "84 bottles of beer on the wall, 84 bottles of beer, take one down, pass it around, 83 bottles of beer on the wall\n",
      "83 bottles of beer on the wall, 83 bottles of beer, take one down, pass it around, 82 bottles of beer on the wall\n",
      "82 bottles of beer on the wall, 82 bottles of beer, take one down, pass it around, 81 bottles of beer on the wall\n",
      "81 bottles of beer on the wall, 81 bottles of beer, take one down, pass it around, 80 bottles of beer on the wall\n",
      "80 bottles of beer on the wall, 80 bottles of beer, take one down, pass it around, 79 bottles of beer on the wall\n",
      "79 bottles of beer on the wall, 79 bottles of beer, take one down, pass it around, 78 bottles of beer on the wall\n",
      "78 bottles of beer on the wall, 78 bottles of beer, take one down, pass it around, 77 bottles of beer on the wall\n",
      "77 bottles of beer on the wall, 77 bottles of beer, take one down, pass it around, 76 bottles of beer on the wall\n",
      "76 bottles of beer on the wall, 76 bottles of beer, take one down, pass it around, 75 bottles of beer on the wall\n",
      "75 bottles of beer on the wall, 75 bottles of beer, take one down, pass it around, 74 bottles of beer on the wall\n",
      "74 bottles of beer on the wall, 74 bottles of beer, take one down, pass it around, 73 bottles of beer on the wall\n",
      "73 bottles of beer on the wall, 73 bottles of beer, take one down, pass it around, 72 bottles of beer on the wall\n",
      "72 bottles of beer on the wall, 72 bottles of beer, take one down, pass it around, 71 bottles of beer on the wall\n",
      "71 bottles of beer on the wall, 71 bottles of beer, take one down, pass it around, 70 bottles of beer on the wall\n",
      "70 bottles of beer on the wall, 70 bottles of beer, take one down, pass it around, 69 bottles of beer on the wall\n",
      "69 bottles of beer on the wall, 69 bottles of beer, take one down, pass it around, 68 bottles of beer on the wall\n",
      "68 bottles of beer on the wall, 68 bottles of beer, take one down, pass it around, 67 bottles of beer on the wall\n",
      "67 bottles of beer on the wall, 67 bottles of beer, take one down, pass it around, 66 bottles of beer on the wall\n",
      "66 bottles of beer on the wall, 66 bottles of beer, take one down, pass it around, 65 bottles of beer on the wall\n",
      "65 bottles of beer on the wall, 65 bottles of beer, take one down, pass it around, 64 bottles of beer on the wall\n",
      "64 bottles of beer on the wall, 64 bottles of beer, take one down, pass it around, 63 bottles of beer on the wall\n",
      "63 bottles of beer on the wall, 63 bottles of beer, take one down, pass it around, 62 bottles of beer on the wall\n",
      "62 bottles of beer on the wall, 62 bottles of beer, take one down, pass it around, 61 bottles of beer on the wall\n",
      "61 bottles of beer on the wall, 61 bottles of beer, take one down, pass it around, 60 bottles of beer on the wall\n",
      "60 bottles of beer on the wall, 60 bottles of beer, take one down, pass it around, 59 bottles of beer on the wall\n",
      "59 bottles of beer on the wall, 59 bottles of beer, take one down, pass it around, 58 bottles of beer on the wall\n",
      "58 bottles of beer on the wall, 58 bottles of beer, take one down, pass it around, 57 bottles of beer on the wall\n",
      "57 bottles of beer on the wall, 57 bottles of beer, take one down, pass it around, 56 bottles of beer on the wall\n",
      "56 bottles of beer on the wall, 56 bottles of beer, take one down, pass it around, 55 bottles of beer on the wall\n",
      "55 bottles of beer on the wall, 55 bottles of beer, take one down, pass it around, 54 bottles of beer on the wall\n",
      "54 bottles of beer on the wall, 54 bottles of beer, take one down, pass it around, 53 bottles of beer on the wall\n",
      "53 bottles of beer on the wall, 53 bottles of beer, take one down, pass it around, 52 bottles of beer on the wall\n",
      "52 bottles of beer on the wall, 52 bottles of beer, take one down, pass it around, 51 bottles of beer on the wall\n",
      "51 bottles of beer on the wall, 51 bottles of beer, take one down, pass it around, 50 bottles of beer on the wall\n",
      "50 bottles of beer on the wall, 50 bottles of beer, take one down, pass it around, 49 bottles of beer on the wall\n",
      "49 bottles of beer on the wall, 49 bottles of beer, take one down, pass it around, 48 bottles of beer on the wall\n",
      "48 bottles of beer on the wall, 48 bottles of beer, take one down, pass it around, 47 bottles of beer on the wall\n",
      "47 bottles of beer on the wall, 47 bottles of beer, take one down, pass it around, 46 bottles of beer on the wall\n",
      "46 bottles of beer on the wall, 46 bottles of beer, take one down, pass it around, 45 bottles of beer on the wall\n",
      "45 bottles of beer on the wall, 45 bottles of beer, take one down, pass it around, 44 bottles of beer on the wall\n",
      "44 bottles of beer on the wall, 44 bottles of beer, take one down, pass it around, 43 bottles of beer on the wall\n",
      "43 bottles of beer on the wall, 43 bottles of beer, take one down, pass it around, 42 bottles of beer on the wall\n",
      "42 bottles of beer on the wall, 42 bottles of beer, take one down, pass it around, 41 bottles of beer on the wall\n",
      "41 bottles of beer on the wall, 41 bottles of beer, take one down, pass it around, 40 bottles of beer on the wall\n",
      "40 bottles of beer on the wall, 40 bottles of beer, take one down, pass it around, 39 bottles of beer on the wall\n",
      "39 bottles of beer on the wall, 39 bottles of beer, take one down, pass it around, 38 bottles of beer on the wall\n",
      "38 bottles of beer on the wall, 38 bottles of beer, take one down, pass it around, 37 bottles of beer on the wall\n",
      "37 bottles of beer on the wall, 37 bottles of beer, take one down, pass it around, 36 bottles of beer on the wall\n",
      "36 bottles of beer on the wall, 36 bottles of beer, take one down, pass it around, 35 bottles of beer on the wall\n",
      "35 bottles of beer on the wall, 35 bottles of beer, take one down, pass it around, 34 bottles of beer on the wall\n",
      "34 bottles of beer on the wall, 34 bottles of beer, take one down, pass it around, 33 bottles of beer on the wall\n",
      "33 bottles of beer on the wall, 33 bottles of beer, take one down, pass it around, 32 bottles of beer on the wall\n",
      "32 bottles of beer on the wall, 32 bottles of beer, take one down, pass it around, 31 bottles of beer on the wall\n",
      "31 bottles of beer on the wall, 31 bottles of beer, take one down, pass it around, 30 bottles of beer on the wall\n",
      "30 bottles of beer on the wall, 30 bottles of beer, take one down, pass it around, 29 bottles of beer on the wall\n",
      "29 bottles of beer on the wall, 29 bottles of beer, take one down, pass it around, 28 bottles of beer on the wall\n",
      "28 bottles of beer on the wall, 28 bottles of beer, take one down, pass it around, 27 bottles of beer on the wall\n",
      "27 bottles of beer on the wall, 27 bottles of beer, take one down, pass it around, 26 bottles of beer on the wall\n",
      "26 bottles of beer on the wall, 26 bottles of beer, take one down, pass it around, 25 bottles of beer on the wall\n",
      "25 bottles of beer on the wall, 25 bottles of beer, take one down, pass it around, 24 bottles of beer on the wall\n",
      "24 bottles of beer on the wall, 24 bottles of beer, take one down, pass it around, 23 bottles of beer on the wall\n",
      "23 bottles of beer on the wall, 23 bottles of beer, take one down, pass it around, 22 bottles of beer on the wall\n",
      "22 bottles of beer on the wall, 22 bottles of beer, take one down, pass it around, 21 bottles of beer on the wall\n",
      "21 bottles of beer on the wall, 21 bottles of beer, take one down, pass it around, 20 bottles of beer on the wall\n",
      "20 bottles of beer on the wall, 20 bottles of beer, take one down, pass it around, 19 bottles of beer on the wall\n",
      "19 bottles of beer on the wall, 19 bottles of beer, take one down, pass it around, 18 bottles of beer on the wall\n",
      "18 bottles of beer on the wall, 18 bottles of beer, take one down, pass it around, 17 bottles of beer on the wall\n",
      "17 bottles of beer on the wall, 17 bottles of beer, take one down, pass it around, 16 bottles of beer on the wall\n",
      "16 bottles of beer on the wall, 16 bottles of beer, take one down, pass it around, 15 bottles of beer on the wall\n",
      "15 bottles of beer on the wall, 15 bottles of beer, take one down, pass it around, 14 bottles of beer on the wall\n",
      "14 bottles of beer on the wall, 14 bottles of beer, take one down, pass it around, 13 bottles of beer on the wall\n",
      "13 bottles of beer on the wall, 13 bottles of beer, take one down, pass it around, 12 bottles of beer on the wall\n",
      "12 bottles of beer on the wall, 12 bottles of beer, take one down, pass it around, 11 bottles of beer on the wall\n",
      "11 bottles of beer on the wall, 11 bottles of beer, take one down, pass it around, 10 bottles of beer on the wall\n",
      "10 bottles of beer on the wall, 10 bottles of beer, take one down, pass it around, 9 bottles of beer on the wall\n",
      "9 bottles of beer on the wall, 9 bottles of beer, take one down, pass it around, 8 bottles of beer on the wall\n",
      "8 bottles of beer on the wall, 8 bottles of beer, take one down, pass it around, 7 bottles of beer on the wall\n",
      "7 bottles of beer on the wall, 7 bottles of beer, take one down, pass it around, 6 bottles of beer on the wall\n",
      "6 bottles of beer on the wall, 6 bottles of beer, take one down, pass it around, 5 bottles of beer on the wall\n",
      "5 bottles of beer on the wall, 5 bottles of beer, take one down, pass it around, 4 bottles of beer on the wall\n",
      "4 bottles of beer on the wall, 4 bottles of beer, take one down, pass it around, 3 bottles of beer on the wall\n",
      "3 bottles of beer on the wall, 3 bottles of beer, take one down, pass it around, 2 bottles of beer on the wall\n",
      "2 bottles of beer on the wall, 2 bottles of beer, take one down, pass it around, 1 bottle of beer on the wall\n",
      "1 bottle of beer on the wall, 1 bottle of beer, take one down, pass it around, no bottles of beer on the wall\n"
     ]
    }
   ],
   "source": [
    "# https://github.com/RianGallagher/Beginner-projects-solutions/blob/master/99bottles.py\n",
    "for i in range(99, 0, -1):\n",
    "    if(i == 2):\n",
    "        print(\"{} bottles of beer on the wall, {} bottles of beer, take one down, pass it around, {} bottle of beer on the wall\".format(i, i, i-1))\n",
    "    elif(i == 1):\n",
    "        print(\"{} bottle of beer on the wall, {} bottle of beer, take one down, pass it around, no bottles of beer on the wall\".format(i, i))\n",
    "    else:\n",
    "        print(\"{} bottles of beer on the wall, {} bottles of beer, take one down, pass it around, {} bottles of beer on the wall\".format(i, i, i-1))\n"
   ]
  },
  {
   "attachments": {
    "image.png": {
     "image/png": "[encoded data removed]"
    }
   },
   "cell_type": "markdown",
   "metadata": {},
   "source": [
    "![image.png](attachment:image.png)"
   ]
  },
  {
   "cell_type": "markdown",
   "metadata": {},
   "source": [
    "### Called FIFOs - Creating pipes which are implemented as files.\n",
    "* A process read from and writes to such a pipe as if it were a regular file. Sometimes more than one process write to such a pipe but only one process reads from it."
   ]
  },
  {
   "cell_type": "code",
   "execution_count": 39,
   "metadata": {},
   "outputs": [
    {
     "name": "stdout",
     "output_type": "stream",
     "text": [
      "10\n",
      "20\n",
      "5\n"
     ]
    }
   ],
   "source": [
    "class Fifo:\n",
    "    def __init__(self):\n",
    "        self.first = None\n",
    "        self.last = None\n",
    "    def append(self, data):\n",
    "        node = [data, None]  # [payload, 'pointer'] \"pair\"\n",
    "        if self.first is None:\n",
    "            self.first = node\n",
    "        else:\n",
    "            self.last[1] = node\n",
    "        self.last = node\n",
    "    def pop(self):\n",
    "        if self.first is None :\n",
    "            raise IndexError\n",
    "        node = self.first\n",
    "        self.first = node[1]\n",
    "        return node[0]\n",
    "\n",
    "if __name__=='__main__':  # Run a test/example when run as a script:\n",
    "    a = Fifo(  )\n",
    "    a.append(10)\n",
    "    a.append(20)\n",
    "    print(a.pop( ))\n",
    "    a.append(5)\n",
    "    print(a.pop( ))\n",
    "    print(a.pop ())"
   ]
  },
  {
   "cell_type": "raw",
   "metadata": {},
   "source": []
  }
 ],
 "metadata": {
  "kernelspec": {
   "display_name": "Python 3",
   "language": "python",
   "name": "python3"
  },
  "language_info": {
   "codemirror_mode": {
    "name": "ipython",
    "version": 3
   },
   "file_extension": ".py",
   "mimetype": "text/x-python",
   "name": "python",
   "nbconvert_exporter": "python",
   "pygments_lexer": "ipython3",
   "version": "3.12.2"
  }
 },
 "nbformat": 4,
 "nbformat_minor": 2
}
