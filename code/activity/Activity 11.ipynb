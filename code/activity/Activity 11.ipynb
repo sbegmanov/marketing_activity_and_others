{
 "cells": [
  {
   "cell_type": "markdown",
   "metadata": {},
   "source": [
    "Using Lasso regression to choose features for predicting customer spend"
   ]
  },
  {
   "cell_type": "markdown",
   "metadata": {},
   "source": [
    "Given a number of data elements about\n",
    "customers: how much they spent in the previous year\n",
    "(prev_year_spend), the number of days since their last\n",
    "purchase (days_since_last_purchase), the number of\n",
    "days since their first purchase days_since_first_purchase), the total number of\n",
    "transactions (total_transactions), the customer’s age\n",
    "(age), the customer’s income (income), and a customer\n",
    "engagement score (engagement_score), which is a score\n",
    "created based on customers’ engagement with previous\n",
    "marketing offers. You are asked to investigate which of these\n",
    "is related to the customer spend in the current year\n",
    "(cur_year_spend), and create a simple linear model to\n",
    "describe these relationships."
   ]
  },
  {
   "cell_type": "markdown",
   "metadata": {},
   "source": [
    "2. Use train_test_split from sklearn to split the data into training and test sets, with random_state=100 and cur_year_spend as the y variable:\n",
    "3. Import Lasso from sklearn and fit a lasso model (with normalize=True and random_state=10) to the training data.\n",
    "4. Get the coefficients from the lasso model, and store the names of the features that have nonzero coefficients along with their coefficient values in the selected_features and selected_coefs variables, respectively.\n",
    "5. Print out the names of the features with nonzero coefficients and their associated coefficient values using the following code."
   ]
  },
  {
   "cell_type": "code",
   "execution_count": 4,
   "metadata": {},
   "outputs": [
    {
     "data": {
      "text/html": [
       "<div>\n",
       "<style scoped>\n",
       "    .dataframe tbody tr th:only-of-type {\n",
       "        vertical-align: middle;\n",
       "    }\n",
       "\n",
       "    .dataframe tbody tr th {\n",
       "        vertical-align: top;\n",
       "    }\n",
       "\n",
       "    .dataframe thead th {\n",
       "        text-align: right;\n",
       "    }\n",
       "</style>\n",
       "<table border=\"1\" class=\"dataframe\">\n",
       "  <thead>\n",
       "    <tr style=\"text-align: right;\">\n",
       "      <th></th>\n",
       "      <th>cur_year_spend</th>\n",
       "      <th>prev_year_spend</th>\n",
       "      <th>days_since_last_purchase</th>\n",
       "      <th>days_since_first_purchase</th>\n",
       "      <th>total_transactions</th>\n",
       "      <th>age</th>\n",
       "      <th>income</th>\n",
       "      <th>engagement_score</th>\n",
       "    </tr>\n",
       "  </thead>\n",
       "  <tbody>\n",
       "    <tr>\n",
       "      <th>0</th>\n",
       "      <td>5536.46</td>\n",
       "      <td>1681.26</td>\n",
       "      <td>7</td>\n",
       "      <td>61</td>\n",
       "      <td>34</td>\n",
       "      <td>61</td>\n",
       "      <td>97914.93</td>\n",
       "      <td>-0.652392</td>\n",
       "    </tr>\n",
       "    <tr>\n",
       "      <th>1</th>\n",
       "      <td>871.41</td>\n",
       "      <td>1366.74</td>\n",
       "      <td>12</td>\n",
       "      <td>34</td>\n",
       "      <td>33</td>\n",
       "      <td>68</td>\n",
       "      <td>30904.69</td>\n",
       "      <td>0.007327</td>\n",
       "    </tr>\n",
       "    <tr>\n",
       "      <th>2</th>\n",
       "      <td>2046.74</td>\n",
       "      <td>1419.38</td>\n",
       "      <td>10</td>\n",
       "      <td>81</td>\n",
       "      <td>22</td>\n",
       "      <td>54</td>\n",
       "      <td>48194.59</td>\n",
       "      <td>0.221666</td>\n",
       "    </tr>\n",
       "    <tr>\n",
       "      <th>3</th>\n",
       "      <td>4662.70</td>\n",
       "      <td>1561.21</td>\n",
       "      <td>12</td>\n",
       "      <td>32</td>\n",
       "      <td>34</td>\n",
       "      <td>49</td>\n",
       "      <td>93551.98</td>\n",
       "      <td>1.149641</td>\n",
       "    </tr>\n",
       "    <tr>\n",
       "      <th>4</th>\n",
       "      <td>3539.46</td>\n",
       "      <td>1397.60</td>\n",
       "      <td>17</td>\n",
       "      <td>72</td>\n",
       "      <td>34</td>\n",
       "      <td>66</td>\n",
       "      <td>66267.57</td>\n",
       "      <td>0.835834</td>\n",
       "    </tr>\n",
       "  </tbody>\n",
       "</table>\n",
       "</div>"
      ],
      "text/plain": [
       "   cur_year_spend  prev_year_spend  days_since_last_purchase  \\\n",
       "0         5536.46          1681.26                         7   \n",
       "1          871.41          1366.74                        12   \n",
       "2         2046.74          1419.38                        10   \n",
       "3         4662.70          1561.21                        12   \n",
       "4         3539.46          1397.60                        17   \n",
       "\n",
       "   days_since_first_purchase  total_transactions  age    income  \\\n",
       "0                         61                  34   61  97914.93   \n",
       "1                         34                  33   68  30904.69   \n",
       "2                         81                  22   54  48194.59   \n",
       "3                         32                  34   49  93551.98   \n",
       "4                         72                  34   66  66267.57   \n",
       "\n",
       "   engagement_score  \n",
       "0         -0.652392  \n",
       "1          0.007327  \n",
       "2          0.221666  \n",
       "3          1.149641  \n",
       "4          0.835834  "
      ]
     },
     "execution_count": 4,
     "metadata": {},
     "output_type": "execute_result"
    }
   ],
   "source": [
    "import pandas as pd\n",
    "\n",
    "df = pd.read_csv('data_science/customer_spend.csv')\n",
    "df.head()"
   ]
  },
  {
   "cell_type": "code",
   "execution_count": 5,
   "metadata": {},
   "outputs": [],
   "source": [
    "from sklearn.model_selection import train_test_split\n",
    "\n",
    "cols = df.columns[1:]\n",
    "X = df[cols]\n",
    "\n",
    "y = df['cur_year_spend']\n",
    "\n",
    "X_train, X_test, y_train, y_test = train_test_split(X, y, random_state = 100)"
   ]
  },
  {
   "cell_type": "code",
   "execution_count": 6,
   "metadata": {},
   "outputs": [
    {
     "data": {
      "text/plain": [
       "Lasso(alpha=1.0, copy_X=True, fit_intercept=True, max_iter=1000, normalize=True,\n",
       "      positive=False, precompute=False, random_state=10, selection='cyclic',\n",
       "      tol=0.0001, warm_start=False)"
      ]
     },
     "execution_count": 6,
     "metadata": {},
     "output_type": "execute_result"
    }
   ],
   "source": [
    "from sklearn.linear_model import Lasso\n",
    "\n",
    "lasso_model = Lasso(normalize=True, random_state=10)\n",
    "lasso_model.fit(X_train,y_train)"
   ]
  },
  {
   "cell_type": "code",
   "execution_count": 7,
   "metadata": {},
   "outputs": [],
   "source": [
    "coefs = lasso_model.coef_\n",
    "selected_features = cols[coefs > 0]\n",
    "selected_coefs = coefs[coefs > 0]"
   ]
  },
  {
   "cell_type": "code",
   "execution_count": 9,
   "metadata": {},
   "outputs": [
    {
     "name": "stdout",
     "output_type": "stream",
     "text": [
      "prev_year_spend coefficient: 0.7986123135389838\n",
      "days_since_first_purchase coefficient: 14.244498212235905\n",
      "total_transactions coefficient: 46.312327266441415\n",
      "income coefficient: 0.05781233517079364\n"
     ]
    }
   ],
   "source": [
    "for coef, feature in zip(selected_coefs, selected_features):\n",
    "    print(feature + ' coefficient: ' + str(coef))"
   ]
  },
  {
   "cell_type": "code",
   "execution_count": null,
   "metadata": {},
   "outputs": [],
   "source": []
  }
 ],
 "metadata": {
  "kernelspec": {
   "display_name": "Python 3",
   "language": "python",
   "name": "python3"
  },
  "language_info": {
   "codemirror_mode": {
    "name": "ipython",
    "version": 3
   },
   "file_extension": ".py",
   "mimetype": "text/x-python",
   "name": "python",
   "nbconvert_exporter": "python",
   "pygments_lexer": "ipython3",
   "version": "3.7.7"
  }
 },
 "nbformat": 4,
 "nbformat_minor": 2
}
